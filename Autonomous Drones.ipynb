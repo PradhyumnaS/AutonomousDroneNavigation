{
 "cells": [
  {
   "cell_type": "code",
   "execution_count": null,
   "metadata": {
    "colab": {
     "base_uri": "https://localhost:8080/"
    },
    "collapsed": true,
    "executionInfo": {
     "elapsed": 25099,
     "status": "ok",
     "timestamp": 1736946004158,
     "user": {
      "displayName": "1DS22IS105 Pradhyumna S",
      "userId": "11389522700949652190"
     },
     "user_tz": -330
    },
    "id": "amVXKo3idJAu",
    "outputId": "0e26ae61-0c43-408d-99ac-3688b2a1025f"
   },
   "outputs": [],
   "source": [
    "!pip install gym pybullet stable-baselines3 matplotlib\n",
    "!pip install pyvirtualdisplay\n",
    "!pip install 'shimmy>=2.0'"
   ]
  },
  {
   "cell_type": "code",
   "execution_count": null,
   "metadata": {
    "colab": {
     "base_uri": "https://localhost:8080/"
    },
    "collapsed": true,
    "executionInfo": {
     "elapsed": 21509,
     "status": "ok",
     "timestamp": 1736946030866,
     "user": {
      "displayName": "1DS22IS105 Pradhyumna S",
      "userId": "11389522700949652190"
     },
     "user_tz": -330
    },
    "id": "OwsrQjblrM9X",
    "outputId": "e7de9899-19cd-4383-bca7-32a1093518b0"
   },
   "outputs": [],
   "source": [
    "from google.colab import drive\n",
    "drive.mount('/content/drive')"
   ]
  },
  {
   "cell_type": "code",
   "execution_count": null,
   "metadata": {
    "colab": {
     "base_uri": "https://localhost:8080/"
    },
    "collapsed": true,
    "executionInfo": {
     "elapsed": 10957,
     "status": "ok",
     "timestamp": 1736946044292,
     "user": {
      "displayName": "1DS22IS105 Pradhyumna S",
      "userId": "11389522700949652190"
     },
     "user_tz": -330
    },
    "id": "oMAq-NcdxnOq",
    "outputId": "11977116-64ee-4419-a3b0-bae3c7940bba"
   },
   "outputs": [],
   "source": [
    "import gym\n",
    "from gym import spaces\n",
    "import pybullet as p\n",
    "import numpy as np\n",
    "from stable_baselines3 import PPO\n",
    "from stable_baselines3.common.vec_env import DummyVecEnv, VecNormalize\n",
    "import matplotlib.pyplot as plt"
   ]
  },
  {
   "cell_type": "code",
   "execution_count": 4,
   "metadata": {
    "collapsed": true,
    "executionInfo": {
     "elapsed": 731,
     "status": "ok",
     "timestamp": 1736946049143,
     "user": {
      "displayName": "1DS22IS105 Pradhyumna S",
      "userId": "11389522700949652190"
     },
     "user_tz": -330
    },
    "id": "bBesW7oodYO6"
   },
   "outputs": [],
   "source": [
    "class DroneEnv(gym.Env):\n",
    "    def __init__(self):\n",
    "        super().__init__()\n",
    "        self.client = p.connect(p.DIRECT)\n",
    "        p.setGravity(0, 0, -9.8, physicsClientId=self.client)\n",
    "\n",
    "        self.action_space = spaces.Box(low=-0.5, high=0.5, shape=(3,), dtype=np.float32)\n",
    "        self.observation_space = spaces.Box(\n",
    "            low=np.array([-20, -20, 0, -2, -2, -2, 0], dtype=np.float32),\n",
    "            high=np.array([20, 20, 10, 2, 2, 2, 50], dtype=np.float32),\n",
    "            dtype=np.float32\n",
    "        )\n",
    "\n",
    "        self.max_steps = 1000\n",
    "        self.num_obstacles = 5\n",
    "        self.reset()\n",
    "\n",
    "    def reset(self):\n",
    "        self.steps = 0\n",
    "        self.drone_pos = np.array([\n",
    "            np.random.uniform(-5, 5),\n",
    "            np.random.uniform(-5, 5),\n",
    "            1 + np.random.uniform(-0.1, 0.1)\n",
    "        ], dtype=np.float32)\n",
    "        self.drone_velocity = np.zeros(3, dtype=np.float32)\n",
    "        self.target_pos = np.array([5, 5, 2], dtype=np.float32)\n",
    "\n",
    "        self.obstacles = []\n",
    "        for _ in range(self.num_obstacles):\n",
    "            while True:\n",
    "                obstacle_pos = np.array([\n",
    "                    np.random.uniform(-10, 10),\n",
    "                    np.random.uniform(-10, 10),\n",
    "                    np.random.uniform(1, 5)\n",
    "                ])\n",
    "                if (np.linalg.norm(obstacle_pos - self.drone_pos) > 2.0 and\n",
    "                    np.linalg.norm(obstacle_pos - self.target_pos) > 2.0):\n",
    "                    self.obstacles.append({'position': obstacle_pos, 'radius': 0.5})\n",
    "                    break\n",
    "        return self._get_observation()\n",
    "\n",
    "    def _get_observation(self):\n",
    "        closest_obstacle_dist = min(np.linalg.norm(self.drone_pos - obs['position'])\n",
    "                                  for obs in self.obstacles)\n",
    "        closest_obstacle_dist = np.clip(closest_obstacle_dist, 0, 50)\n",
    "\n",
    "        obs = np.concatenate([\n",
    "            self.drone_pos,\n",
    "            self.drone_velocity,\n",
    "            [closest_obstacle_dist]\n",
    "        ]).astype(np.float32)\n",
    "        return np.clip(obs, self.observation_space.low, self.observation_space.high)\n",
    "\n",
    "    def step(self, action):\n",
    "        self.steps += 1\n",
    "        action = np.clip(action, self.action_space.low, self.action_space.high)\n",
    "\n",
    "        self.drone_velocity += action * 0.1\n",
    "        self.drone_velocity *= 0.95\n",
    "        self.drone_pos += self.drone_velocity * 0.1\n",
    "        self.drone_pos = np.clip(self.drone_pos, [-20, -20, 0], [20, 20, 10])\n",
    "\n",
    "        distance_to_target = np.linalg.norm(self.drone_pos - self.target_pos)\n",
    "        velocity_magnitude = np.linalg.norm(self.drone_velocity)\n",
    "\n",
    "        if distance_to_target < 0.2 and velocity_magnitude < 0.2:\n",
    "            self.last_successful_pos = self.drone_pos.copy()\n",
    "\n",
    "        done = False\n",
    "        success = False\n",
    "\n",
    "        if self.drone_pos[2] <= 0:\n",
    "            reward = -1000\n",
    "            done = True\n",
    "        elif distance_to_target < 0.2 and velocity_magnitude < 0.2:\n",
    "            reward = 200\n",
    "            done = True\n",
    "            success = True\n",
    "            self.drone_pos = self.last_successful_pos.copy()\n",
    "        elif self.steps >= self.max_steps:\n",
    "            done = True\n",
    "            reward = -distance_to_target * 0.1\n",
    "        else:\n",
    "            reward = -distance_to_target * 0.1\n",
    "            if distance_to_target < 1.0:\n",
    "                reward += (1.0 - distance_to_target) * 2.0\n",
    "                reward += (1.0 - velocity_magnitude) * 1.0\n",
    "            if velocity_magnitude > 1.0:\n",
    "                reward -= (velocity_magnitude - 1.0) * 0.5\n",
    "\n",
    "        return self._get_observation(), reward, done, {\n",
    "            'distance': distance_to_target,\n",
    "            'velocity': velocity_magnitude,\n",
    "            'success': success\n",
    "        }\n",
    "\n",
    "    def get_drone_state(self):\n",
    "        return {\n",
    "            'drone_pos': self.drone_pos,\n",
    "            'target_pos': self.target_pos,\n",
    "            'obstacles': self.obstacles\n",
    "        }"
   ]
  },
  {
   "cell_type": "code",
   "execution_count": 5,
   "metadata": {
    "collapsed": true,
    "executionInfo": {
     "elapsed": 540,
     "status": "ok",
     "timestamp": 1736946052104,
     "user": {
      "displayName": "1DS22IS105 Pradhyumna S",
      "userId": "11389522700949652190"
     },
     "user_tz": -330
    },
    "id": "4LXwy5b2djVV"
   },
   "outputs": [],
   "source": [
    "def visualize_trajectory(env, model, num_episodes=1):\n",
    "    for episode in range(num_episodes):\n",
    "        obs = env.reset()\n",
    "        done = False\n",
    "        positions = []\n",
    "        target_reached_position = None\n",
    "\n",
    "        while not done:\n",
    "            action, _ = model.predict(obs, deterministic=True)\n",
    "            current_pos = env.get_original_obs()[0][:3]\n",
    "            positions.append(current_pos)\n",
    "\n",
    "            obs, _, done, info = env.step(action)\n",
    "            if info[0]['success']:\n",
    "                target_reached_position = current_pos.copy()\n",
    "                positions.append(target_reached_position)\n",
    "                break\n",
    "\n",
    "        positions = np.array(positions)\n",
    "        final_position = target_reached_position if target_reached_position is not None else positions[-1]\n",
    "\n",
    "        fig = plt.figure(figsize=(15, 6))\n",
    "        ax = fig.add_subplot(111, projection='3d')\n",
    "\n",
    "        points = ax.scatter(positions[:, 0], positions[:, 1], positions[:, 2],\n",
    "                          c=np.arange(len(positions)), cmap='viridis')\n",
    "        plt.colorbar(points, label='Time Step')\n",
    "\n",
    "        unwrapped_env = env.env_method('get_drone_state')[0]\n",
    "        ax.scatter(*unwrapped_env['target_pos'], c='red', marker='*', s=300, label='Target')\n",
    "\n",
    "        for obstacle in unwrapped_env['obstacles']:\n",
    "            ax.scatter(*obstacle['position'], c='gray', s=100, alpha=0.5)\n",
    "\n",
    "        ax.set_xlabel('X Position')\n",
    "        ax.set_ylabel('Y Position')\n",
    "        ax.set_zlabel('Z Position')\n",
    "        ax.legend()\n",
    "        plt.show()"
   ]
  },
  {
   "cell_type": "code",
   "execution_count": 6,
   "metadata": {
    "executionInfo": {
     "elapsed": 3,
     "status": "ok",
     "timestamp": 1736946054729,
     "user": {
      "displayName": "1DS22IS105 Pradhyumna S",
      "userId": "11389522700949652190"
     },
     "user_tz": -330
    },
    "id": "7mo2t67JfY1X"
   },
   "outputs": [],
   "source": [
    "def evaluate_model(env, model, n_eval_episodes=10):\n",
    "    rewards = []\n",
    "    successes = 0\n",
    "\n",
    "    for _ in range(n_eval_episodes):\n",
    "        obs = env.reset()\n",
    "        episode_reward = 0\n",
    "        done = False\n",
    "\n",
    "        while not done:\n",
    "            action, _ = model.predict(obs, deterministic=True)\n",
    "            obs, reward, done, info = env.step(action)\n",
    "            episode_reward += reward[0]\n",
    "            if info[0]['success']:\n",
    "                successes += 1\n",
    "\n",
    "        rewards.append(episode_reward)\n",
    "\n",
    "    print(f\"\\nEvaluation Results ({n_eval_episodes} episodes):\")\n",
    "    print(f\"Success Rate: {(successes/n_eval_episodes)*100:.1f}%\")\n",
    "    print(f\"Average Reward: {np.mean(rewards):.2f} ± {np.std(rewards):.2f}\")\n",
    "    return rewards"
   ]
  },
  {
   "cell_type": "code",
   "execution_count": null,
   "metadata": {
    "colab": {
     "base_uri": "https://localhost:8080/"
    },
    "collapsed": true,
    "executionInfo": {
     "elapsed": 5833,
     "status": "ok",
     "timestamp": 1736946062709,
     "user": {
      "displayName": "1DS22IS105 Pradhyumna S",
      "userId": "11389522700949652190"
     },
     "user_tz": -330
    },
    "id": "c0JXie7P4q8y",
    "outputId": "2762bc18-847b-469c-b028-fbd026c5c89a"
   },
   "outputs": [],
   "source": [
    "eval_env = DummyVecEnv([lambda: DroneEnv()])\n",
    "eval_env = VecNormalize.load(\"/content/drive/My Drive/models/RL/vec_normalize.pkl\", eval_env)\n",
    "eval_env.training = False\n",
    "eval_env.norm_reward = False\n",
    "\n",
    "model = PPO.load(\"/content/drive/My Drive/models/RL/ppo_drone_navigation\")"
   ]
  },
  {
   "cell_type": "code",
   "execution_count": null,
   "metadata": {
    "colab": {
     "base_uri": "https://localhost:8080/",
     "height": 1000
    },
    "collapsed": true,
    "executionInfo": {
     "elapsed": 7886,
     "status": "ok",
     "timestamp": 1736946074031,
     "user": {
      "displayName": "1DS22IS105 Pradhyumna S",
      "userId": "11389522700949652190"
     },
     "user_tz": -330
    },
    "id": "h8pFe9oV4Qst",
    "outputId": "b67e9ab9-5004-4dc2-956f-abafe9ca2e42"
   },
   "outputs": [],
   "source": [
    "rewards = evaluate_model(eval_env, model, n_eval_episodes=10)\n",
    "visualize_trajectory(eval_env, model, num_episodes=3)"
   ]
  }
 ],
 "metadata": {
  "accelerator": "GPU",
  "colab": {
   "authorship_tag": "ABX9TyPlpasbp12z1rlebHsVwyyo",
   "gpuType": "T4",
   "provenance": []
  },
  "kernelspec": {
   "display_name": "Python 3",
   "name": "python3"
  },
  "language_info": {
   "name": "python"
  }
 },
 "nbformat": 4,
 "nbformat_minor": 0
}
